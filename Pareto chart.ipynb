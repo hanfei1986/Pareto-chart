{
 "cells": [
  {
   "cell_type": "code",
   "execution_count": 1,
   "metadata": {},
   "outputs": [],
   "source": [
    "import pandas as pd\n",
    "import numpy as np\n",
    "import matplotlib.pyplot as plt"
   ]
  },
  {
   "cell_type": "code",
   "execution_count": 2,
   "metadata": {},
   "outputs": [],
   "source": [
    "df = pd.read_csv('data.csv')"
   ]
  },
  {
   "cell_type": "code",
   "execution_count": 3,
   "metadata": {},
   "outputs": [
    {
     "data": {
      "text/html": [
       "<div>\n",
       "<style scoped>\n",
       "    .dataframe tbody tr th:only-of-type {\n",
       "        vertical-align: middle;\n",
       "    }\n",
       "\n",
       "    .dataframe tbody tr th {\n",
       "        vertical-align: top;\n",
       "    }\n",
       "\n",
       "    .dataframe thead th {\n",
       "        text-align: right;\n",
       "    }\n",
       "</style>\n",
       "<table border=\"1\" class=\"dataframe\">\n",
       "  <thead>\n",
       "    <tr style=\"text-align: right;\">\n",
       "      <th></th>\n",
       "      <th>cost</th>\n",
       "      <th>price</th>\n",
       "      <th>weight</th>\n",
       "      <th>purchase_date</th>\n",
       "      <th>product_type</th>\n",
       "      <th>product_level</th>\n",
       "      <th>maker</th>\n",
       "      <th>ingredient</th>\n",
       "      <th>height</th>\n",
       "      <th>width</th>\n",
       "      <th>depth</th>\n",
       "    </tr>\n",
       "  </thead>\n",
       "  <tbody>\n",
       "    <tr>\n",
       "      <th>0</th>\n",
       "      <td>$333k</td>\n",
       "      <td>$300,492</td>\n",
       "      <td>3 Ton 90 Kg</td>\n",
       "      <td>Dec 19 2008</td>\n",
       "      <td>Q,B</td>\n",
       "      <td>advanced</td>\n",
       "      <td>M14122</td>\n",
       "      <td>IN732052,IN732053</td>\n",
       "      <td>2.76 meters</td>\n",
       "      <td>97 cm</td>\n",
       "      <td>26 cm</td>\n",
       "    </tr>\n",
       "    <tr>\n",
       "      <th>1</th>\n",
       "      <td>NaN</td>\n",
       "      <td>$430,570</td>\n",
       "      <td>3 Ton 30 Kg</td>\n",
       "      <td>Sep 10 1997</td>\n",
       "      <td>J,D</td>\n",
       "      <td>basic</td>\n",
       "      <td>NaN</td>\n",
       "      <td>IN732054,IN732055,IN732056,IN732057,IN732058</td>\n",
       "      <td>2.67 meters</td>\n",
       "      <td>98 cm</td>\n",
       "      <td>26 cm</td>\n",
       "    </tr>\n",
       "    <tr>\n",
       "      <th>2</th>\n",
       "      <td>$270k</td>\n",
       "      <td>$213,070</td>\n",
       "      <td>3 Ton 40 Kg</td>\n",
       "      <td>Sep 05 2001</td>\n",
       "      <td>J,D</td>\n",
       "      <td>basic</td>\n",
       "      <td>NaN</td>\n",
       "      <td>IN732054,IN732059,IN732060</td>\n",
       "      <td>3.0 meters</td>\n",
       "      <td>93 cm</td>\n",
       "      <td>24 cm</td>\n",
       "    </tr>\n",
       "    <tr>\n",
       "      <th>3</th>\n",
       "      <td>NaN</td>\n",
       "      <td>$229,174</td>\n",
       "      <td>3 Ton 50 Kg</td>\n",
       "      <td>Dec 23 2016</td>\n",
       "      <td>U</td>\n",
       "      <td>advanced</td>\n",
       "      <td>M14123</td>\n",
       "      <td>IN732061,IN732062,IN732063</td>\n",
       "      <td>2.5 meters</td>\n",
       "      <td>102 cm</td>\n",
       "      <td>27 cm</td>\n",
       "    </tr>\n",
       "    <tr>\n",
       "      <th>4</th>\n",
       "      <td>$97k</td>\n",
       "      <td>$122,659</td>\n",
       "      <td>2 Ton 970 Kg</td>\n",
       "      <td>Jan 12 2000</td>\n",
       "      <td>D,R</td>\n",
       "      <td>advanced</td>\n",
       "      <td>NaN</td>\n",
       "      <td>IN732064,IN732065,IN732066</td>\n",
       "      <td>2.47 meters</td>\n",
       "      <td>101 cm</td>\n",
       "      <td>26 cm</td>\n",
       "    </tr>\n",
       "  </tbody>\n",
       "</table>\n",
       "</div>"
      ],
      "text/plain": [
       "    cost     price        weight purchase_date product_type product_level  \\\n",
       "0  $333k  $300,492   3 Ton 90 Kg   Dec 19 2008          Q,B      advanced   \n",
       "1    NaN  $430,570   3 Ton 30 Kg   Sep 10 1997          J,D         basic   \n",
       "2  $270k  $213,070   3 Ton 40 Kg   Sep 05 2001          J,D         basic   \n",
       "3    NaN  $229,174   3 Ton 50 Kg   Dec 23 2016            U      advanced   \n",
       "4   $97k  $122,659  2 Ton 970 Kg   Jan 12 2000          D,R      advanced   \n",
       "\n",
       "    maker                                    ingredient       height   width  \\\n",
       "0  M14122                             IN732052,IN732053  2.76 meters   97 cm   \n",
       "1     NaN  IN732054,IN732055,IN732056,IN732057,IN732058  2.67 meters   98 cm   \n",
       "2     NaN                    IN732054,IN732059,IN732060   3.0 meters   93 cm   \n",
       "3  M14123                    IN732061,IN732062,IN732063   2.5 meters  102 cm   \n",
       "4     NaN                    IN732064,IN732065,IN732066  2.47 meters  101 cm   \n",
       "\n",
       "   depth  \n",
       "0  26 cm  \n",
       "1  26 cm  \n",
       "2  24 cm  \n",
       "3  27 cm  \n",
       "4  26 cm  "
      ]
     },
     "execution_count": 3,
     "metadata": {},
     "output_type": "execute_result"
    }
   ],
   "source": [
    "df.head()"
   ]
  },
  {
   "cell_type": "code",
   "execution_count": 4,
   "metadata": {},
   "outputs": [],
   "source": [
    "def Pareto_chart(df, x_name):\n",
    "    proportion = df[x_name].value_counts()/df[x_name].count()\n",
    "    cdf = np.cumsum(proportion.values)\n",
    "    plt.bar(x=proportion.index, height=proportion.values)\n",
    "    plt.plot(proportion.index, cdf, 'o-', color='red')\n",
    "    plt.axhline(0.8, color='orange', linestyle='-')\n",
    "    plt.text(2, 0.8, '80%', color='orange', fontsize=15, va='bottom', ha='center')\n",
    "    plt.xticks(rotation=90)\n",
    "    plt.ylim(0,1)\n",
    "    plt.ylabel('Proportion')"
   ]
  },
  {
   "cell_type": "code",
   "execution_count": 5,
   "metadata": {},
   "outputs": [
    {
     "data": {
      "image/png": "[encoded data removed]",
      "text/plain": [
       "<Figure size 640x480 with 1 Axes>"
      ]
     },
     "metadata": {},
     "output_type": "display_data"
    }
   ],
   "source": [
    "Pareto_chart(df, \"product_level\")"
   ]
  }
 ],
 "metadata": {
  "kernelspec": {
   "display_name": "base",
   "language": "python",
   "name": "python3"
  },
  "language_info": {
   "codemirror_mode": {
    "name": "ipython",
    "version": 3
   },
   "file_extension": ".py",
   "mimetype": "text/x-python",
   "name": "python",
   "nbconvert_exporter": "python",
   "pygments_lexer": "ipython3",
   "version": "3.11.4"
  },
  "orig_nbformat": 4
 },
 "nbformat": 4,
 "nbformat_minor": 2
}
